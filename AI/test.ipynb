{
 "cells": [
  {
   "cell_type": "code",
   "execution_count": 4,
   "id": "6bb45b18",
   "metadata": {},
   "outputs": [],
   "source": [
    "from model import *"
   ]
  },
  {
   "cell_type": "code",
   "execution_count": 24,
   "id": "7adb6b5c",
   "metadata": {},
   "outputs": [
    {
     "data": {
      "text/plain": [
       "<All keys matched successfully>"
      ]
     },
     "execution_count": 24,
     "metadata": {},
     "output_type": "execute_result"
    }
   ],
   "source": [
    "model = FiveStreamGCN_Model(num_joints=39, num_features=3, hidden_dim=128, num_layers=3,  feat_d=741,\n",
    "                                output_dim=1, dropout=0.15)\n",
    "\n",
    "model.load_state_dict(torch.load(r\"C:\\Users\\Admin\\Documents\\GitHub\\Rehabilation-H3MS-GCN\\AI\\weights\\uiprmd\\model_Ex10.pth\", map_location='cuda:0'))"
   ]
  },
  {
   "cell_type": "code",
   "execution_count": null,
   "id": "0984fc45",
   "metadata": {},
   "outputs": [],
   "source": [
    "\"C:\\Users\\Admin\\Desktop\\results\\model_Ex3.pth\""
   ]
  }
 ],
 "metadata": {
  "kernelspec": {
   "display_name": "dfine",
   "language": "python",
   "name": "python3"
  },
  "language_info": {
   "codemirror_mode": {
    "name": "ipython",
    "version": 3
   },
   "file_extension": ".py",
   "mimetype": "text/x-python",
   "name": "python",
   "nbconvert_exporter": "python",
   "pygments_lexer": "ipython3",
   "version": "3.11.9"
  }
 },
 "nbformat": 4,
 "nbformat_minor": 5
}
